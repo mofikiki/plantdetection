{
 "cells": [
  {
   "cell_type": "code",
   "execution_count": 1,
   "metadata": {},
   "outputs": [
    {
     "name": "stderr",
     "output_type": "stream",
     "text": [
      "2024-05-08 15:27:23.371600: I tensorflow/core/platform/cpu_feature_guard.cc:182] This TensorFlow binary is optimized to use available CPU instructions in performance-critical operations.\n",
      "To enable the following instructions: AVX2 FMA, in other operations, rebuild TensorFlow with the appropriate compiler flags.\n"
     ]
    }
   ],
   "source": [
    "import os\n",
    "import numpy as np\n",
    "from PIL import Image, ImageOps\n",
    "from keras.models import load_model"
   ]
  },
  {
   "cell_type": "code",
   "execution_count": 3,
   "metadata": {},
   "outputs": [],
   "source": [
    "# Disable scientific notation for clarity\n",
    "np.set_printoptions(suppress=True)\n",
    "\n",
    "# Load the labels\n",
    "class_names = open(\"converted_keras(1)/labels.txt\", \"r\").readlines()\n",
    "\n",
    "# Define the path to the image or folder containing images\n",
    "path = \"/Users/mofi/Downloads/3124865a-5f2c-4afb-bbc3-1fc1463a0808.jpeg\"  # Change this to your path"
   ]
  },
  {
   "cell_type": "code",
   "execution_count": 5,
   "metadata": {},
   "outputs": [],
   "source": [
    "# If the path is a directory, process all images in the directory\n",
    "if os.path.isdir(path):\n",
    "    image_folder = path\n",
    "else:\n",
    "    # If the path is a file, process the single image\n",
    "    image_folder = os.path.dirname(path)\n",
    "\n",
    "# Path to the folder where you want to save images\n",
    "output_folder = \"/Users/mofi/Downloads/abnormal_images/\"\n",
    "# Create output folder if it doesn't exist\n",
    "if not os.path.exists(output_folder):\n",
    "    os.makedirs(output_folder)\n",
    "\n",
    "# Load the model\n",
    "model = load_model(\"converted_keras(1)/keras_model.h5\", compile=False)\n",
    "\n",
    "# Create the array of the right shape to feed into the keras model\n",
    "data = np.ndarray(shape=(1, 224, 224, 3), dtype=np.float32)\n"
   ]
  },
  {
   "cell_type": "code",
   "execution_count": null,
   "metadata": {},
   "outputs": [],
   "source": [
    "# Function to preprocess and predict an image\n",
    "def predict_image(image_path):\n",
    "    image = Image.open(image_path).convert(\"RGB\")\n",
    "    # Resizing the image to be at least 224x224 and then cropping from the center\n",
    "    size = (224, 224)\n",
    "    image = ImageOps.fit(image, size, Image.ANTIALIAS)\n",
    "    # Turn the image into a numpy array\n",
    "    image_array = np.asarray(image)\n",
    "    normalized_image_array = (image_array.astype(np.float32) / 255.0)  # Normalize pixels to [0, 1]\n",
    "    # Load the image into the array\n",
    "    data[0] = normalized_image_array\n",
    "    # Predicts the model\n",
    "    prediction = model.predict(data)\n",
    "    index = np.argmax(prediction)\n",
    "    class_name = class_names[index].strip()  # Remove leading/trailing whitespaces\n",
    "    confidence_score = prediction[0][index]\n",
    "    if class_names[index].strip()==\"healthy\" and confidence<0.8:\n",
    "        class_name==\"abnormality\"\n",
    "    else:\n",
    "        class_name= class_names[index].strip()\n",
    "    return class_name, confidence_score\n",
    "# If the path is a directory, iterate through images in the folder\n",
    "if os.path.isdir(path):\n",
    "    # Iterate through images in the folder\n",
    "    for filename in os.listdir(image_folder):\n",
    "        if filename.endswith(\".jpeg\") or filename.endswith(\".jpg\") or filename.endswith(\".png\"):\n",
    "            image_path = os.path.join(image_folder, filename)\n",
    "            predicted_class, confidence = predict_image(image_path)\n",
    "            # Check if the predicted class is not \"healthy\"\n",
    "            if predicted_class !=['powdery','rust','abnormality']:\n",
    "                # Move the image to the output folder\n",
    "                output_path = os.path.join(output_folder, filename)\n",
    "                os.rename(image_path, output_path)\n",
    "                print(f\"Image {filename} is predicted as {predicted_class} with confidence {confidence}. Moved to {output_folder}.\")\n",
    "            else:\n",
    "                print(f\"Image {filename} is predicted as {predicted_class} with confidence {confidence}.\")\n"
   ]
  },
  {
   "cell_type": "markdown",
   "metadata": {},
   "source": [
    "\n",
    "This is a process of adjusting the predicted class based on some conditions, such as a threshold value for the confidence score"
   ]
  }
 ],
 "metadata": {
  "kernelspec": {
   "display_name": "Python 3",
   "language": "python",
   "name": "python3"
  },
  "language_info": {
   "codemirror_mode": {
    "name": "ipython",
    "version": 3
   },
   "file_extension": ".py",
   "mimetype": "text/x-python",
   "name": "python",
   "nbconvert_exporter": "python",
   "pygments_lexer": "ipython3",
   "version": "3.11.1"
  }
 },
 "nbformat": 4,
 "nbformat_minor": 2
}
